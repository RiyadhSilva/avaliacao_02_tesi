{
 "cells": [
  {
   "cell_type": "markdown",
   "metadata": {},
   "source": [
    "### Avaliação 02 - Riyadh Silva & Jefferson Pires\n",
    "#### Resoluções"
   ]
  },
  {
   "cell_type": "markdown",
   "metadata": {},
   "source": [
    "1 - Sobre o dataset:\n",
    "\n",
    "    a. Nome: Bank Marketing Data Set \n",
    "    \n",
    "       Descrição: Os dados estão relacionados com campanhas de marketing direta de uma instituição bancária portuguesa. As campanhas de marketing foram baseadas em chamadas telefônicas. Muitas vezes, era necessário contatar mais de uma vez o mesmo cliente, a fim de acessar se o produto (depósito a prazo bancário) seria assinado ('sim') ou não ('não').\n",
    "       \n",
    "       Volume de dados: Número de instâncias - 45211 ; Número de atributos - 20. \n",
    "       \n",
    "    b. Principais colunas e seus significados:\n",
    "    \n",
    "    As seguintes colunas referem-se aos dados bancários do cliente\n",
    "        1 - Idade (numérico)\n",
    "        2 - Trabalho: tipo de trabalho (categórico)\n",
    "        3 - Conjugal: estado civil (categórico)\n",
    "        4 - Educação: nível de instrução educacional (categórico)\n",
    "        5 - Default: tem crédito como padrão? (categórico)\n",
    "        6 - Habitação: tem empréstimo  habitacional? (categórico)\n",
    "        7 - Empréstimo: tem empréstimo pessoal? (categórico)\n",
    "        \n",
    "    As seguintes colunas estão relacionadas com o último contato da campanha atual\n",
    "        8 - Contato: com qual meio de comunicação se entrou em contato (categórico)\n",
    "        9 - Mês: mês referente a último contato do ano (categórico)\n",
    "        10 - Dia da semana: último dia de contato da semana (categórico)\n",
    "        11 - Duração: a duração do último contato, em segundos (numérico). Nota importante: Esse atributo afeta altamente o destino de saída (Se a duração = 0 então y = 'no'). No entanto, a duração não é conhecida antes de uma chamada ser executada. Além disso, após o término da chamada, é obviamente conhecida. Assim, essa entrada deve ser incluída apenas para fins de benchmark e deve ser descartada se a intenção for ter um modelo preditivo realista.\n",
    "        \n",
    "    As seguintes colunas estão relacionadas com as campanhas\n",
    "        12 - Campanha: número de contatos realizados durante a campanha e para este cliente (numérico)\n",
    "        13 - Pdays: número de dias que se passaram depois que o cliente foi contatado pela última vez em uma campanha anterior (numérico; número 999 significa que o cliente não foi previamente contactado)\n",
    "        14 - Anterior: número de contatos realizados antes desta campanha e para este cliente (numérico)\n",
    "        15 - Poutcome: resultado da campanha de marketing anterior (categórico).\n",
    "        \n",
    "    As seguintes colunas estão relacionadas com atributos de contexto social e econômico\n",
    "        16 - Emp.var.rate: taxa de variação do emprego - indicador trimestral (numérico)\n",
    "        17 - Cons.price.idx: índice de preços ao consumidor - indicador mensal (numérico)\n",
    "        18 - Cons.conf.idx: índice de confiança do consumidor - indicador mensal (numérico)\n",
    "        19 - Euribor3m: euribor taxa de 3 meses - indicador diário (numérico)\n",
    "        20 - Nr.employed: número de empregados - indicador trimestral (numérico)\n",
    "        \n",
    "    c. O objetivo do dataset:\n",
    "    A seguinte coluna refere-se a variável de saída (alvo desejado)\n",
    "        21 - Y: o cliente assinou um depósito a prazo (binário: 'sim','não')\n",
    "        \n",
    "       \n",
    "        "
   ]
  },
  {
   "cell_type": "markdown",
   "metadata": {},
   "source": [
    "2 - Análise dos dados"
   ]
  },
  {
   "cell_type": "code",
   "execution_count": 1,
   "metadata": {},
   "outputs": [],
   "source": [
    "import pandas as pd\n",
    "df = pd.read_csv('bank-additional-full.csv')"
   ]
  },
  {
   "cell_type": "markdown",
   "metadata": {},
   "source": [
    "a - Tipos das colunas"
   ]
  },
  {
   "cell_type": "code",
   "execution_count": 2,
   "metadata": {},
   "outputs": [
    {
     "name": "stdout",
     "output_type": "stream",
     "text": [
      "<class 'pandas.core.frame.DataFrame'>\n",
      "RangeIndex: 41188 entries, 0 to 41187\n",
      "Data columns (total 21 columns):\n",
      "age               41188 non-null int64\n",
      "job               41188 non-null object\n",
      "marital           41188 non-null object\n",
      "education         41188 non-null object\n",
      "default           41188 non-null object\n",
      "housing           41188 non-null object\n",
      "loan              41188 non-null object\n",
      "contact           41188 non-null object\n",
      "month             41188 non-null object\n",
      "day_of_week       41188 non-null object\n",
      "duration          41188 non-null int64\n",
      "campaign          41188 non-null int64\n",
      "pdays             41188 non-null int64\n",
      "previous          41188 non-null int64\n",
      "poutcome          41188 non-null object\n",
      "emp.var.rate      41188 non-null float64\n",
      "cons.price.idx    41188 non-null float64\n",
      "cons.conf.idx     41188 non-null float64\n",
      "euribor3m         41188 non-null float64\n",
      "nr.employed       41188 non-null float64\n",
      "y                 41188 non-null object\n",
      "dtypes: float64(5), int64(5), object(11)\n",
      "memory usage: 6.6+ MB\n"
     ]
    }
   ],
   "source": [
    "df.info()\n",
    "# age, duration, campaign, pdays, previous são valores numéricos não nulos do tipo int64\n",
    "# emp.var.rate, cons.price.idx, cons.conf.idx, euribor3m, nr.employed são valores numéricos não nulos do tipo float64\n",
    "# as demais colunas são valores não nulos do tipo objeto str (strings)\n"
   ]
  },
  {
   "cell_type": "markdown",
   "metadata": {},
   "source": [
    "b - Campos nulos"
   ]
  },
  {
   "cell_type": "code",
   "execution_count": 3,
   "metadata": {},
   "outputs": [
    {
     "name": "stdout",
     "output_type": "stream",
     "text": [
      "age  :  False\n",
      "job  :  False\n",
      "marital  :  False\n",
      "education  :  False\n",
      "default  :  False\n",
      "housing  :  False\n",
      "loan  :  False\n",
      "contact  :  False\n",
      "month  :  False\n",
      "day_of_week  :  False\n",
      "duration  :  False\n",
      "campaign  :  False\n",
      "pdays  :  False\n",
      "previous  :  False\n",
      "poutcome  :  False\n",
      "emp.var.rate  :  False\n",
      "cons.price.idx  :  False\n",
      "cons.conf.idx  :  False\n",
      "euribor3m  :  False\n",
      "nr.employed  :  False\n",
      "y  :  False\n"
     ]
    }
   ],
   "source": [
    "pos = 0\n",
    "while(pos < 21):\n",
    "    print(df.columns[pos], ' : ',pd.isnull(df.columns[pos]))\n",
    "    pos = pos + 1\n",
    "# Não existem campos nulos no dataset"
   ]
  },
  {
   "cell_type": "markdown",
   "metadata": {},
   "source": [
    "c - Variáveis categóricas"
   ]
  },
  {
   "cell_type": "markdown",
   "metadata": {},
   "source": [
    "Existem 10 colunas com variáveis categóricas:\n",
    "    \n",
    "- job : tipo de trabalho (categorical: 'admin.','blue-collar','entrepreneur','housemaid','management','retired','self-employed','services','student','technician','unemployed','unknown')\n",
    "\n",
    "- marital : estado civil (categorical: 'divorced','married','single','unknown'; note: 'divorced' means divorced or widowed)\n",
    "\n",
    "- education: nível de instrução (categorical: 'basic.4y','basic.6y','basic.9y','high.school','illiterate','professional.course','university.degree','unknown')\n",
    "\n",
    "- default: O cliente tem crédito como padrão? (categorical: 'no','yes','unknown')\n",
    "\n",
    "- housing: O cliente tem empréstimo habitacional? (categorical: 'no','yes','unknown')\n",
    "\n",
    "- loan: O cliente tem emrpéstimo pessoal? (categorical: 'no','yes','unknown')\n",
    "\n",
    "- contact: tipo de meio de comunicação usado para contato (categorical: 'cellular','telephone') \n",
    "\n",
    "- month: último mês de contato do ano (categorical: 'jan', 'feb', 'mar', ..., 'nov', 'dec')\n",
    "\n",
    "- day_of_week: último dia de contato durante a semana (categorical: 'mon','tue','wed','thu','fri')\n",
    "\n",
    "- poutcome: resultado da campanha de marketing anterior (categorical: 'failure','nonexistent','success')"
   ]
  },
  {
   "cell_type": "code",
   "execution_count": 4,
   "metadata": {},
   "outputs": [
    {
     "name": "stdout",
     "output_type": "stream",
     "text": [
      "housemaid\n",
      "services\n",
      "admin.\n",
      "blue-collar\n",
      "technician\n",
      "retired\n",
      "management\n",
      "unemployed\n",
      "self-employed\n",
      "unknown\n",
      "entrepreneur\n",
      "student\n"
     ]
    }
   ],
   "source": [
    "# 1 - Job\n",
    "for u in df.job.unique():\n",
    "    print(u)"
   ]
  },
  {
   "cell_type": "code",
   "execution_count": 5,
   "metadata": {},
   "outputs": [
    {
     "name": "stdout",
     "output_type": "stream",
     "text": [
      "married\n",
      "single\n",
      "divorced\n",
      "unknown\n"
     ]
    }
   ],
   "source": [
    "# 2 - Marital\n",
    "for u in df.marital.unique():\n",
    "    print(u)"
   ]
  },
  {
   "cell_type": "code",
   "execution_count": 6,
   "metadata": {},
   "outputs": [
    {
     "name": "stdout",
     "output_type": "stream",
     "text": [
      "basic.4y\n",
      "high.school\n",
      "basic.6y\n",
      "basic.9y\n",
      "professional.course\n",
      "unknown\n",
      "university.degree\n",
      "illiterate\n"
     ]
    }
   ],
   "source": [
    "# 3 - Education\n",
    "for u in df.education.unique():\n",
    "    print(u)"
   ]
  },
  {
   "cell_type": "code",
   "execution_count": 7,
   "metadata": {},
   "outputs": [
    {
     "name": "stdout",
     "output_type": "stream",
     "text": [
      "no\n",
      "unknown\n",
      "yes\n"
     ]
    }
   ],
   "source": [
    "# 4 - Default\n",
    "for u in df.default.unique():\n",
    "    print(u)"
   ]
  },
  {
   "cell_type": "code",
   "execution_count": 8,
   "metadata": {},
   "outputs": [
    {
     "name": "stdout",
     "output_type": "stream",
     "text": [
      "no\n",
      "yes\n",
      "unknown\n"
     ]
    }
   ],
   "source": [
    "# 5 - Housing\n",
    "for u in df.housing.unique():\n",
    "    print(u)"
   ]
  },
  {
   "cell_type": "code",
   "execution_count": 9,
   "metadata": {},
   "outputs": [
    {
     "name": "stdout",
     "output_type": "stream",
     "text": [
      "no\n",
      "yes\n",
      "unknown\n"
     ]
    }
   ],
   "source": [
    "# 6 - Loan\n",
    "for u in df.loan.unique():\n",
    "    print(u)"
   ]
  },
  {
   "cell_type": "code",
   "execution_count": 10,
   "metadata": {},
   "outputs": [
    {
     "name": "stdout",
     "output_type": "stream",
     "text": [
      "telephone\n",
      "cellular\n"
     ]
    }
   ],
   "source": [
    "# 7 - Contact\n",
    "for u in df.contact.unique():\n",
    "    print(u)"
   ]
  },
  {
   "cell_type": "code",
   "execution_count": 11,
   "metadata": {},
   "outputs": [
    {
     "name": "stdout",
     "output_type": "stream",
     "text": [
      "may\n",
      "jun\n",
      "jul\n",
      "aug\n",
      "oct\n",
      "nov\n",
      "dec\n",
      "mar\n",
      "apr\n",
      "sep\n"
     ]
    }
   ],
   "source": [
    "# 8 - Month\n",
    "for u in df.month.unique():\n",
    "    print(u)"
   ]
  },
  {
   "cell_type": "code",
   "execution_count": 12,
   "metadata": {},
   "outputs": [
    {
     "name": "stdout",
     "output_type": "stream",
     "text": [
      "mon\n",
      "tue\n",
      "wed\n",
      "thu\n",
      "fri\n"
     ]
    }
   ],
   "source": [
    "# 9 - Day_of_week\n",
    "for u in df.day_of_week.unique():\n",
    "    print(u)"
   ]
  },
  {
   "cell_type": "code",
   "execution_count": 13,
   "metadata": {},
   "outputs": [
    {
     "name": "stdout",
     "output_type": "stream",
     "text": [
      "nonexistent\n",
      "failure\n",
      "success\n"
     ]
    }
   ],
   "source": [
    "# 10 - Poutcome\n",
    "for u in df.poutcome.unique():\n",
    "    print(u)"
   ]
  },
  {
   "cell_type": "markdown",
   "metadata": {},
   "source": [
    "d - Campos novos criados com justificativa\n",
    "- Neste primeiro momento será necessário criar novas colunas em virtude das variavéis categóricas"
   ]
  },
  {
   "cell_type": "code",
   "execution_count": 14,
   "metadata": {},
   "outputs": [
    {
     "data": {
      "text/plain": [
       "21"
      ]
     },
     "execution_count": 14,
     "metadata": {},
     "output_type": "execute_result"
    }
   ],
   "source": [
    "# Antes da criação das novas colunas, temos 21 colunas\n",
    "len(df.columns)"
   ]
  },
  {
   "cell_type": "code",
   "execution_count": 15,
   "metadata": {},
   "outputs": [],
   "source": [
    "# Converte yes em 1 e not em 0 na coluna y (Letra f - Necessário aplicar aqui antes do pd.get_dummies, pois senão seriam criadas duas colunas desnecessárias, y_yes e y_no)\n",
    "df.y.replace(('yes', 'no'), (1, 0), inplace=True)\n",
    "y = df.y"
   ]
  },
  {
   "cell_type": "code",
   "execution_count": 16,
   "metadata": {},
   "outputs": [],
   "source": [
    "# Tratamento das variáveis categóricas\n",
    "df = df.drop(columns=['y'])\n",
    "x = df\n",
    "x = pd.get_dummies(x)"
   ]
  },
  {
   "cell_type": "code",
   "execution_count": 17,
   "metadata": {},
   "outputs": [
    {
     "data": {
      "text/plain": [
       "63"
      ]
     },
     "execution_count": 17,
     "metadata": {},
     "output_type": "execute_result"
    }
   ],
   "source": [
    "# Após a execução do algoritmo anterior 44 novas colunas foram criadas\n",
    "len(x.columns)"
   ]
  },
  {
   "cell_type": "code",
   "execution_count": 18,
   "metadata": {},
   "outputs": [
    {
     "name": "stdout",
     "output_type": "stream",
     "text": [
      "age\n",
      "duration\n",
      "campaign\n",
      "pdays\n",
      "previous\n",
      "emp.var.rate\n",
      "cons.price.idx\n",
      "cons.conf.idx\n",
      "euribor3m\n",
      "nr.employed\n",
      "job_admin.\n",
      "job_blue-collar\n",
      "job_entrepreneur\n",
      "job_housemaid\n",
      "job_management\n",
      "job_retired\n",
      "job_self-employed\n",
      "job_services\n",
      "job_student\n",
      "job_technician\n",
      "job_unemployed\n",
      "job_unknown\n",
      "marital_divorced\n",
      "marital_married\n",
      "marital_single\n",
      "marital_unknown\n",
      "education_basic.4y\n",
      "education_basic.6y\n",
      "education_basic.9y\n",
      "education_high.school\n",
      "education_illiterate\n",
      "education_professional.course\n",
      "education_university.degree\n",
      "education_unknown\n",
      "default_no\n",
      "default_unknown\n",
      "default_yes\n",
      "housing_no\n",
      "housing_unknown\n",
      "housing_yes\n",
      "loan_no\n",
      "loan_unknown\n",
      "loan_yes\n",
      "contact_cellular\n",
      "contact_telephone\n",
      "month_apr\n",
      "month_aug\n",
      "month_dec\n",
      "month_jul\n",
      "month_jun\n",
      "month_mar\n",
      "month_may\n",
      "month_nov\n",
      "month_oct\n",
      "month_sep\n",
      "day_of_week_fri\n",
      "day_of_week_mon\n",
      "day_of_week_thu\n",
      "day_of_week_tue\n",
      "day_of_week_wed\n",
      "poutcome_failure\n",
      "poutcome_nonexistent\n",
      "poutcome_success\n"
     ]
    }
   ],
   "source": [
    "for c in x.columns:\n",
    "    print(c)"
   ]
  },
  {
   "cell_type": "markdown",
   "metadata": {},
   "source": [
    "e - Campos descartados com justificativa\n",
    "- Exclusão não necessária, apenas conversão de valores como as variáveis categóricas e a última coluna (presente na letra d)"
   ]
  },
  {
   "cell_type": "markdown",
   "metadata": {},
   "source": [
    "f - Conversões entre tipos de colunas\n",
    "- A última coluna apresentava valores binários 'yes' e 'no', foi necessário a conversão desses valores para '1' e '0' respectivamente (presente na letra d)"
   ]
  },
  {
   "cell_type": "markdown",
   "metadata": {},
   "source": [
    "g - Apresente alguma técnica de análise não apresentada em sala até o momento"
   ]
  },
  {
   "cell_type": "markdown",
   "metadata": {},
   "source": [
    "h - Analise, com APIs específicas, pelo menos 3 características relevantes do dataset e exiba gráficos a respeito\n"
   ]
  },
  {
   "cell_type": "code",
   "execution_count": 19,
   "metadata": {},
   "outputs": [],
   "source": [
    "import matplotlib.pyplot as plt"
   ]
  },
  {
   "cell_type": "markdown",
   "metadata": {},
   "source": [
    "A idade do público alvo"
   ]
  },
  {
   "cell_type": "code",
   "execution_count": 20,
   "metadata": {},
   "outputs": [
    {
     "data": {
      "text/plain": [
       "[]"
      ]
     },
     "execution_count": 20,
     "metadata": {},
     "output_type": "execute_result"
    },
    {
     "data": {
      "image/png": "[encoded data removed]",
      "text/plain": [
       "<Figure size 432x288 with 1 Axes>"
      ]
     },
     "metadata": {},
     "output_type": "display_data"
    }
   ],
   "source": [
    "x.age.hist().plot()"
   ]
  },
  {
   "cell_type": "markdown",
   "metadata": {},
   "source": [
    "Após a análise desse histograma nota-se que o público alvo com maior incidência possuem entre 25 e 42 anos"
   ]
  },
  {
   "cell_type": "markdown",
   "metadata": {},
   "source": [
    "A distribuição dos resultados"
   ]
  },
  {
   "cell_type": "code",
   "execution_count": 21,
   "metadata": {},
   "outputs": [
    {
     "data": {
      "text/plain": [
       "[]"
      ]
     },
     "execution_count": 21,
     "metadata": {},
     "output_type": "execute_result"
    },
    {
     "data": {
      "image/png": "[encoded data removed]",
      "text/plain": [
       "<Figure size 432x288 with 1 Axes>"
      ]
     },
     "metadata": {},
     "output_type": "display_data"
    }
   ],
   "source": [
    "y.hist().plot()"
   ]
  },
  {
   "cell_type": "markdown",
   "metadata": {},
   "source": [
    "Um pouco menos de 5.000 pessoas assinaram o empréstimo, enquanto mais de 35.000 recusaram a assinatura"
   ]
  },
  {
   "cell_type": "code",
   "execution_count": 22,
   "metadata": {},
   "outputs": [
    {
     "name": "stdout",
     "output_type": "stream",
     "text": [
      "4640\n"
     ]
    }
   ],
   "source": [
    "# Número de pessoas que assinaram o empréstimo\n",
    "cont = 0;\n",
    "for n in y:\n",
    "    if(n == 1):\n",
    "        cont = cont + 1\n",
    "print(cont)"
   ]
  },
  {
   "cell_type": "code",
   "execution_count": 23,
   "metadata": {},
   "outputs": [
    {
     "name": "stdout",
     "output_type": "stream",
     "text": [
      "36548\n"
     ]
    }
   ],
   "source": [
    "# Número de pessoas que não assinaram o empréstimo\n",
    "cont = 0;\n",
    "for n in y:\n",
    "    if(n == 0):\n",
    "        cont = cont + 1\n",
    "print(cont)"
   ]
  },
  {
   "cell_type": "code",
   "execution_count": 24,
   "metadata": {},
   "outputs": [
    {
     "data": {
      "text/plain": [
       "age                      0.030399\n",
       "duration                 0.405274\n",
       "campaign                -0.066357\n",
       "pdays                   -0.324914\n",
       "previous                 0.230181\n",
       "emp.var.rate            -0.298334\n",
       "cons.price.idx          -0.136211\n",
       "cons.conf.idx            0.054878\n",
       "euribor3m               -0.307771\n",
       "nr.employed             -0.354678\n",
       "job_admin.               0.031426\n",
       "job_blue-collar         -0.074423\n",
       "job_entrepreneur        -0.016644\n",
       "job_housemaid           -0.006505\n",
       "job_management          -0.000419\n",
       "job_retired              0.092221\n",
       "job_self-employed       -0.004663\n",
       "job_services            -0.032301\n",
       "job_student              0.093955\n",
       "job_technician          -0.006149\n",
       "job_unemployed           0.014752\n",
       "job_unknown             -0.000151\n",
       "marital_divorced        -0.010608\n",
       "marital_married         -0.043398\n",
       "marital_single           0.054133\n",
       "marital_unknown          0.005211\n",
       "education_basic.4y      -0.010798\n",
       "education_basic.6y      -0.023517\n",
       "education_basic.9y      -0.045135\n",
       "education_high.school   -0.007452\n",
       "                           ...   \n",
       "education_unknown        0.021430\n",
       "default_no               0.099344\n",
       "default_unknown         -0.099293\n",
       "default_yes             -0.003041\n",
       "housing_no              -0.011085\n",
       "housing_unknown         -0.002270\n",
       "housing_yes              0.011743\n",
       "loan_no                  0.005123\n",
       "loan_unknown            -0.002270\n",
       "loan_yes                -0.004466\n",
       "contact_cellular         0.144773\n",
       "contact_telephone       -0.144773\n",
       "month_apr                0.076136\n",
       "month_aug               -0.008813\n",
       "month_dec                0.079303\n",
       "month_jul               -0.032230\n",
       "month_jun               -0.009182\n",
       "month_mar                0.144014\n",
       "month_may               -0.108271\n",
       "month_nov               -0.011796\n",
       "month_oct                0.137366\n",
       "month_sep                0.126067\n",
       "day_of_week_fri         -0.006996\n",
       "day_of_week_mon         -0.021265\n",
       "day_of_week_thu          0.013888\n",
       "day_of_week_tue          0.008046\n",
       "day_of_week_wed          0.006302\n",
       "poutcome_failure         0.031799\n",
       "poutcome_nonexistent    -0.193507\n",
       "poutcome_success         0.316269\n",
       "Length: 63, dtype: float64"
      ]
     },
     "execution_count": 24,
     "metadata": {},
     "output_type": "execute_result"
    }
   ],
   "source": [
    "# A correlação entre os resultados (y) com os dados (x)\n",
    "x.corrwith(y)\n",
    "# Nota-se que as colunas duration, previous, contact_cellular,  poutcome_success são de suma importância para os resultados yes"
   ]
  },
  {
   "cell_type": "code",
   "execution_count": 25,
   "metadata": {},
   "outputs": [
    {
     "data": {
      "text/plain": [
       "<matplotlib.axes._subplots.AxesSubplot at 0x23283eecc50>"
      ]
     },
     "execution_count": 25,
     "metadata": {},
     "output_type": "execute_result"
    },
    {
     "data": {
      "image/png": "[encoded data removed]",
      "text/plain": [
       "<Figure size 432x288 with 1 Axes>"
      ]
     },
     "metadata": {},
     "output_type": "display_data"
    }
   ],
   "source": [
    "x.corrwith(y).plot()\n",
    "# Quanto maiores os picos, maior a correlação (c > 0) quanto menor os picos menor os picos, menor a correlação (c < 0)"
   ]
  },
  {
   "cell_type": "markdown",
   "metadata": {},
   "source": [
    "3 - Execução dos algoritmos"
   ]
  },
  {
   "cell_type": "code",
   "execution_count": 39,
   "metadata": {},
   "outputs": [
    {
     "name": "stdout",
     "output_type": "stream",
     "text": [
      "0.8452947460425366\n"
     ]
    }
   ],
   "source": [
    "#Multinomial sem K-folding\n",
    "from sklearn.naive_bayes import MultinomialNB\n",
    "from sklearn.model_selection import train_test_split\n",
    "\n",
    "# O algoritmo multinomial não funciona com valores negativos bem como as matrizes da questão 4, como a tabela apresenta as seguintes colunas precisam ser removidas\n",
    "x = x.drop(columns=['euribor3m','cons.conf.idx','emp.var.rate'])\n",
    "x_treino, x_teste, y_treino, y_teste = train_test_split(x, y, test_size=0.25,\n",
    "random_state=0)\n",
    "\n",
    "modeloMultinomial = MultinomialNB()\n",
    "modeloMultinomial.fit(x_treino, y_treino)\n",
    "print(modeloMultinomial.score(x_teste, y_teste))"
   ]
  },
  {
   "cell_type": "code",
   "execution_count": 81,
   "metadata": {},
   "outputs": [
    {
     "name": "stdout",
     "output_type": "stream",
     "text": [
      "0.8420655838489258\n"
     ]
    }
   ],
   "source": [
    "#Multinomial com K-folding\n",
    "from sklearn.cross_validation import cross_val_score\n",
    "import numpy as np\n",
    "from scipy.stats import bayes_mvs\n",
    "\n",
    "modeloMultinomial = MultinomialNB()\n",
    "k = 10\n",
    "scores = cross_val_score(modeloMultinomial, x, y, cv = k)\n",
    "print(scores.mean())"
   ]
  },
  {
   "cell_type": "code",
   "execution_count": 27,
   "metadata": {},
   "outputs": [
    {
     "name": "stdout",
     "output_type": "stream",
     "text": [
      "0.9132757113722444\n"
     ]
    }
   ],
   "source": [
    "#Adaboost sem k-folding\n",
    "from sklearn.ensemble import AdaBoostClassifier\n",
    "\n",
    "modeloAdaBoost = AdaBoostClassifier()\n",
    "modeloAdaBoost.fit(x_treino, y_treino)\n",
    "print(modeloAdaBoost.score(x_teste, y_teste))"
   ]
  },
  {
   "cell_type": "code",
   "execution_count": 30,
   "metadata": {},
   "outputs": [
    {
     "name": "stdout",
     "output_type": "stream",
     "text": [
      "0.7628089118043688\n"
     ]
    }
   ],
   "source": [
    "#Adaboost Com k-folding\n",
    "from sklearn.cross_validation import cross_val_score\n",
    "k = 10\n",
    "scores = cross_val_score(modeloAdaBoost, x, y, cv = k)\n",
    "print(scores.mean())"
   ]
  },
  {
   "cell_type": "code",
   "execution_count": 31,
   "metadata": {},
   "outputs": [
    {
     "name": "stdout",
     "output_type": "stream",
     "text": [
      "0.903175682237545\n"
     ]
    }
   ],
   "source": [
    "#OneVsRest sem K-folding\n",
    "from sklearn.multiclass import OneVsRestClassifier\n",
    "from sklearn.svm import LinearSVC\n",
    "\n",
    "modeloOneVsRest = OneVsRestClassifier(LinearSVC(random_state = 0))\n",
    "modeloOneVsRest.fit(x_treino, y_treino)\n",
    "print(modeloOneVsRest.score(x_teste, y_teste))"
   ]
  },
  {
   "cell_type": "code",
   "execution_count": 83,
   "metadata": {},
   "outputs": [
    {
     "name": "stdout",
     "output_type": "stream",
     "text": [
      "0.8941433702380881\n"
     ]
    }
   ],
   "source": [
    "#OneVsRest com K-folding\n",
    "scores = cross_val_score(modeloOneVsRest,x,y,cv = k)\n",
    "print(scores.mean())"
   ]
  },
  {
   "cell_type": "code",
   "execution_count": 34,
   "metadata": {},
   "outputs": [
    {
     "name": "stdout",
     "output_type": "stream",
     "text": [
      "0.903175682237545\n"
     ]
    }
   ],
   "source": [
    "#OneVsOne sem K-folding\n",
    "from sklearn.multiclass import OneVsOneClassifier\n",
    "modeloOneVsOne = OneVsOneClassifier(LinearSVC(random_state = 0))\n",
    "modeloOneVsOne.fit(x_treino, y_treino)\n",
    "print(modeloOneVsOne.score(x_teste, y_teste))"
   ]
  },
  {
   "cell_type": "code",
   "execution_count": 35,
   "metadata": {},
   "outputs": [
    {
     "name": "stdout",
     "output_type": "stream",
     "text": [
      "0.7130482815689291\n"
     ]
    }
   ],
   "source": [
    "#OneVsOne com K-folding\n",
    "scores = cross_val_score(modeloOneVsOne,x,y,cv = k)\n",
    "print(scores.mean())"
   ]
  },
  {
   "cell_type": "code",
   "execution_count": 36,
   "metadata": {},
   "outputs": [
    {
     "name": "stdout",
     "output_type": "stream",
     "text": [
      "0.912013207730407\n"
     ]
    }
   ],
   "source": [
    "#Algoritmo não usado em sala - A regressão logística é usada onde uma saída discreta é esperada, \n",
    "#como a ocorrência de algum evento (ex. Prever se a chuva irá ocorrer ou não).\n",
    "#fonte:https://medium.com/@cristianofurquim/10-algoritmos-de-aprendizagem-de-m%C3%A1quinas-machine-learning-que-voc%C3%AA-precisa-saber-c49f9eefe319\n",
    "\n",
    "#LogisticRegression sem K-folding\n",
    "from sklearn.linear_model import LogisticRegression\n",
    "modeloLogisticRegression = LogisticRegression()\n",
    "modeloLogisticRegression.fit(x_treino, y_treino)\n",
    "print(modeloLogisticRegression.score(x_teste, y_teste))"
   ]
  },
  {
   "cell_type": "code",
   "execution_count": 37,
   "metadata": {},
   "outputs": [
    {
     "name": "stdout",
     "output_type": "stream",
     "text": [
      "0.8369598306618979\n"
     ]
    }
   ],
   "source": [
    "#LogisticRegression com K-folding\n",
    "scores = cross_val_score(modeloLogisticRegression,x,y,cv = k)\n",
    "print(scores.mean())"
   ]
  },
  {
   "cell_type": "markdown",
   "metadata": {},
   "source": [
    "4 - Apresentação dos resultados"
   ]
  },
  {
   "cell_type": "code",
   "execution_count": 40,
   "metadata": {},
   "outputs": [
    {
     "name": "stdout",
     "output_type": "stream",
     "text": [
      "0.8467702768334143\n",
      "0.38209331651954603\n",
      "0.6914285571952937\n",
      "0.49760788156400854\n",
      "5.428955979931422\n",
      "[[3150.6  504.2]\n",
      " [ 143.2  320.8]]\n"
     ]
    }
   ],
   "source": [
    "#Matriz de confusão MultinomialNB\n",
    "import numpy as np\n",
    "from sklearn.model_selection import StratifiedKFold\n",
    "from sklearn.metrics import accuracy_score, confusion_matrix, precision_score, recall_score, f1_score, log_loss\n",
    "\n",
    "kfold = StratifiedKFold(n_splits=10, shuffle=True, random_state=1)\n",
    "acuracias = []\n",
    "precisoes = []\n",
    "recalls = []\n",
    "f1_scores = []\n",
    "log_losss = []\n",
    "matrizes = []\n",
    "\n",
    "x_values = x.values\n",
    "for indice_treinamento, indice_teste in kfold.split(x,np.zeros(shape=(x.shape[0], 1))):\n",
    "    # print('Índice treinamento: ', indice_treinamento, 'Índice teste: ', indice_teste) \n",
    "    modelo = MultinomialNB()\n",
    "    modelo.fit(x_values[indice_treinamento], y[indice_treinamento])\n",
    "    previsoes = modelo.predict(x_values[indice_teste])\n",
    "    acuracia = accuracy_score(y[indice_teste], previsoes)\n",
    "    precisao = precision_score(y[indice_teste], previsoes)\n",
    "    recall = recall_score(y[indice_teste], previsoes)\n",
    "    f1Score = f1_score(y[indice_teste], previsoes)\n",
    "    logLoss = log_loss(y[indice_teste], previsoes)\n",
    "    \n",
    "    matrizes.append(confusion_matrix(y[indice_teste], previsoes))\n",
    "    acuracias.append(acuracia)\n",
    "    precisoes.append(precisao)\n",
    "    f1_scores.append(f1Score)\n",
    "    recalls.append(recall)\n",
    "    log_losss.append(logLoss)\n",
    "    \n",
    "\n",
    "matriz_final = np.mean(matrizes, axis=0)\n",
    "acuracias = np.asarray(acuracias)\n",
    "precisoes = np.asarray(precisoes)\n",
    "recalls = np.asarray(recalls)\n",
    "f1_scores = np.asarray(f1_scores)\n",
    "log_losss = np.asarray(log_losss)\n",
    "\n",
    "print(acuracia.mean())\n",
    "print(precisao.mean())\n",
    "print(recalls.mean())\n",
    "print(f1_scores.mean())\n",
    "print(log_losss.mean())\n",
    "print(matriz_final)"
   ]
  },
  {
   "cell_type": "code",
   "execution_count": 149,
   "metadata": {},
   "outputs": [
    {
     "name": "stdout",
     "output_type": "stream",
     "text": [
      "0.9089363768819816\n",
      "0.6352941176470588\n",
      "0.3945942663248528\n",
      "0.4925894267530757\n",
      "3.158049605381531\n",
      "[[3559.    95.8]\n",
      " [ 280.8  183.2]]\n"
     ]
    }
   ],
   "source": [
    "#Matriz de confusão AdaBoostClassifier\n",
    "kfold = StratifiedKFold(n_splits=10, shuffle=True, random_state=1)\n",
    "acuracias = []\n",
    "precisoes = []\n",
    "recalls = []\n",
    "f1_scores = []\n",
    "log_losss = []\n",
    "matrizes = []\n",
    "\n",
    "for indice_treinamento, indice_teste in kfold.split(x,np.zeros(shape=(x.shape[0], 1))):\n",
    "    # print('Índice treinamento: ', indice_treinamento, 'Índice teste: ', indice_teste) \n",
    "    modelo = AdaBoostClassifier()\n",
    "    modelo.fit(x_values[indice_treinamento], y[indice_treinamento])\n",
    "    previsoes = modelo.predict(x_values[indice_teste])\n",
    "    acuracia = accuracy_score(y[indice_teste], previsoes)\n",
    "    precisao = precision_score(y[indice_teste], previsoes)\n",
    "    recall = recall_score(y[indice_teste], previsoes)\n",
    "    f1Score = f1_score(y[indice_teste], previsoes)\n",
    "    logLoss = log_loss(y[indice_teste], previsoes)\n",
    "    \n",
    "    matrizes.append(confusion_matrix(y[indice_teste], previsoes))\n",
    "    acuracias.append(acuracia)\n",
    "    precisoes.append(precisao)\n",
    "    f1_scores.append(f1Score)\n",
    "    recalls.append(recall)\n",
    "    log_losss.append(logLoss)\n",
    "    \n",
    "matriz_final = np.mean(matrizes, axis=0)\n",
    "acuracias = np.asarray(acuracias)\n",
    "precisoes = np.asarray(precisoes)\n",
    "recalls = np.asarray(recalls)\n",
    "f1_scores = np.asarray(f1_scores)\n",
    "log_losss = np.asarray(log_losss)\n",
    "\n",
    "print(acuracia.mean())\n",
    "print(precisao.mean())\n",
    "print(recalls.mean())\n",
    "print(f1_scores.mean())\n",
    "print(log_losss.mean())\n",
    "print(matriz_final)"
   ]
  },
  {
   "cell_type": "code",
   "execution_count": 41,
   "metadata": {},
   "outputs": [
    {
     "name": "stdout",
     "output_type": "stream",
     "text": [
      "0.9011656143759106\n",
      "0.5640138408304498\n",
      "0.39641981921036373\n",
      "0.31635150941219536\n",
      "8.866860573790557\n",
      "[[2879.8  775. ]\n",
      " [ 282.4  181.6]]\n"
     ]
    }
   ],
   "source": [
    "#Matriz de confusão OneVsRestClassifier\n",
    "kfold = StratifiedKFold(n_splits=10, shuffle=True, random_state=1)\n",
    "acuracias = []\n",
    "precisoes = []\n",
    "recalls = []\n",
    "f1_scores = []\n",
    "log_losss = []\n",
    "matrizes = []\n",
    "\n",
    "for indice_treinamento, indice_teste in kfold.split(x,np.zeros(shape=(x.shape[0], 1))):\n",
    "    # print('Índice treinamento: ', indice_treinamento, 'Índice teste: ', indice_teste) \n",
    "    modelo = OneVsRestClassifier(LinearSVC(random_state = 0))\n",
    "    modelo.fit(x_values[indice_treinamento], y[indice_treinamento])\n",
    "    previsoes = modelo.predict(x_values[indice_teste])\n",
    "    acuracia = accuracy_score(y[indice_teste], previsoes)\n",
    "    precisao = precision_score(y[indice_teste], previsoes)\n",
    "    recall = recall_score(y[indice_teste], previsoes)\n",
    "    f1Score = f1_score(y[indice_teste], previsoes)\n",
    "    logLoss = log_loss(y[indice_teste], previsoes)\n",
    "    \n",
    "    matrizes.append(confusion_matrix(y[indice_teste], previsoes))\n",
    "    acuracias.append(acuracia)\n",
    "    precisoes.append(precisao)\n",
    "    f1_scores.append(f1Score)\n",
    "    recalls.append(recall)\n",
    "    log_losss.append(logLoss)\n",
    "    \n",
    "matriz_final = np.mean(matrizes, axis=0)\n",
    "acuracias = np.asarray(acuracias)\n",
    "precisoes = np.asarray(precisoes)\n",
    "recalls = np.asarray(recalls)\n",
    "f1_scores = np.asarray(f1_scores)\n",
    "log_losss = np.asarray(log_losss)\n",
    "\n",
    "print(acuracia.mean())\n",
    "print(precisao.mean())\n",
    "print(recalls.mean())\n",
    "print(f1_scores.mean())\n",
    "print(log_losss.mean())\n",
    "print(matriz_final)"
   ]
  },
  {
   "cell_type": "code",
   "execution_count": 42,
   "metadata": {},
   "outputs": [
    {
     "name": "stdout",
     "output_type": "stream",
     "text": [
      "0.9011656143759106\n",
      "0.5640138408304498\n",
      "0.39641981921036373\n",
      "0.31635150941219536\n",
      "8.866860573790557\n",
      "[[2879.8  775. ]\n",
      " [ 282.4  181.6]]\n"
     ]
    }
   ],
   "source": [
    "#Matriz de confusão OneVsRestClassifier\n",
    "kfold = StratifiedKFold(n_splits=10, shuffle=True, random_state=1)\n",
    "acuracias = []\n",
    "precisoes = []\n",
    "recalls = []\n",
    "f1_scores = []\n",
    "log_losss = []\n",
    "matrizes = []\n",
    "\n",
    "for indice_treinamento, indice_teste in kfold.split(x,np.zeros(shape=(x.shape[0], 1))):\n",
    "    # print('Índice treinamento: ', indice_treinamento, 'Índice teste: ', indice_teste) \n",
    "    modelo = OneVsOneClassifier(LinearSVC(random_state = 0))\n",
    "    modelo.fit(x_values[indice_treinamento], y[indice_treinamento])\n",
    "    previsoes = modelo.predict(x_values[indice_teste])\n",
    "    acuracia = accuracy_score(y[indice_teste], previsoes)\n",
    "    precisao = precision_score(y[indice_teste], previsoes)\n",
    "    recall = recall_score(y[indice_teste], previsoes)\n",
    "    f1Score = f1_score(y[indice_teste], previsoes)\n",
    "    logLoss = log_loss(y[indice_teste], previsoes)\n",
    "    \n",
    "    matrizes.append(confusion_matrix(y[indice_teste], previsoes))\n",
    "    acuracias.append(acuracia)\n",
    "    precisoes.append(precisao)\n",
    "    f1_scores.append(f1Score)\n",
    "    recalls.append(recall)\n",
    "    log_losss.append(logLoss)\n",
    "\n",
    "matriz_final = np.mean(matrizes, axis=0)\n",
    "acuracias = np.asarray(acuracias)\n",
    "precisoes = np.asarray(precisoes)\n",
    "recalls = np.asarray(recalls)\n",
    "f1_scores = np.asarray(f1_scores)\n",
    "log_losss = np.asarray(log_losss)\n",
    "\n",
    "print(acuracia.mean())\n",
    "print(precisao.mean())\n",
    "print(recalls.mean())\n",
    "print(f1_scores.mean())\n",
    "print(log_losss.mean())\n",
    "print(matriz_final)"
   ]
  },
  {
   "cell_type": "code",
   "execution_count": 43,
   "metadata": {},
   "outputs": [
    {
     "name": "stdout",
     "output_type": "stream",
     "text": [
      "0.9084507042253521\n",
      "0.6236162361623616\n",
      "0.3856525622989585\n",
      "0.4850996446207441\n",
      "3.179853587552746\n",
      "[[3560.4   94.4]\n",
      " [ 284.8  179.2]]\n"
     ]
    }
   ],
   "source": [
    "kfold = StratifiedKFold(n_splits=10, shuffle=True, random_state=1)\n",
    "acuracias = []\n",
    "precisoes = []\n",
    "recalls = []\n",
    "f1_scores = []\n",
    "log_losss = []\n",
    "matrizes = []\n",
    "\n",
    "for indice_treinamento, indice_teste in kfold.split(x,np.zeros(shape=(x.shape[0], 1))):\n",
    "    # print('Índice treinamento: ', indice_treinamento, 'Índice teste: ', indice_teste) \n",
    "    modelo = LogisticRegression()\n",
    "    modelo.fit(x_values[indice_treinamento], y[indice_treinamento])\n",
    "    previsoes = modelo.predict(x_values[indice_teste])\n",
    "    acuracia = accuracy_score(y[indice_teste], previsoes)\n",
    "    precisao = precision_score(y[indice_teste], previsoes)\n",
    "    recall = recall_score(y[indice_teste], previsoes)\n",
    "    f1Score = f1_score(y[indice_teste], previsoes)\n",
    "    logLoss = log_loss(y[indice_teste], previsoes)\n",
    "    \n",
    "    matrizes.append(confusion_matrix(y[indice_teste], previsoes))\n",
    "    acuracias.append(acuracia)\n",
    "    precisoes.append(precisao)\n",
    "    f1_scores.append(f1Score)\n",
    "    recalls.append(recall)\n",
    "    log_losss.append(logLoss)\n",
    "    \n",
    "matriz_final = np.mean(matrizes, axis=0)\n",
    "acuracias = np.asarray(acuracias)\n",
    "precisoes = np.asarray(precisoes)\n",
    "recalls = np.asarray(recalls)\n",
    "f1_scores = np.asarray(f1_scores)\n",
    "log_losss = np.asarray(log_losss)\n",
    "\n",
    "print(acuracia.mean())\n",
    "print(precisao.mean())\n",
    "print(recalls.mean())\n",
    "print(f1_scores.mean())\n",
    "print(log_losss.mean())\n",
    "print(matriz_final)"
   ]
  },
  {
   "cell_type": "code",
   "execution_count": null,
   "metadata": {},
   "outputs": [],
   "source": []
  }
 ],
 "metadata": {
  "kernelspec": {
   "display_name": "Python 3",
   "language": "python",
   "name": "python3"
  },
  "language_info": {
   "codemirror_mode": {
    "name": "ipython",
    "version": 3
   },
   "file_extension": ".py",
   "mimetype": "text/x-python",
   "name": "python",
   "nbconvert_exporter": "python",
   "pygments_lexer": "ipython3",
   "version": "3.6.5"
  }
 },
 "nbformat": 4,
 "nbformat_minor": 2
}
